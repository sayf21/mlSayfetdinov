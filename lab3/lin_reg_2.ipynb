{
  "nbformat": 4,
  "nbformat_minor": 0,
  "metadata": {
    "colab": {
      "name": "Untitled7.ipynb",
      "provenance": []
    },
    "kernelspec": {
      "name": "python3",
      "display_name": "Python 3"
    },
    "language_info": {
      "name": "python"
    }
  },
  "cells": [
    {
      "cell_type": "markdown",
      "metadata": {
        "id": "4hpuT0SS5GPl"
      },
      "source": [
        "#Задача 2"
      ]
    },
    {
      "cell_type": "markdown",
      "metadata": {
        "id": "2inxtgDb5Hyg"
      },
      "source": [
        "Импорт необходимых библиотек"
      ]
    },
    {
      "cell_type": "code",
      "metadata": {
        "id": "hhyIMXpB2h85"
      },
      "source": [
        "import numpy as np\n",
        "import pandas as pd\n",
        "import matplotlib.pyplot as plt\n",
        "from sklearn import datasets, linear_model\n",
        "from sklearn.metrics import mean_squared_error, r2_score\n"
      ],
      "execution_count": 44,
      "outputs": []
    },
    {
      "cell_type": "markdown",
      "metadata": {
        "id": "lBtxAPPx5EFQ"
      },
      "source": [
        "Загрузка данных и разделение их на train, test"
      ]
    },
    {
      "cell_type": "code",
      "metadata": {
        "id": "pBfjPwB32sNR"
      },
      "source": [
        "diabetes = datasets.load_diabetes()\n",
        "diabetes_X = diabetes.data\n",
        "diabetes_Y = diabetes.target\n",
        "total_size = len(diabetes_Y)\n",
        "train_size = int(0.7 * total_size)\n",
        "np.random.seed(0)\n",
        "indices = np.random.permutation(len(diabetes_Y))\n",
        "train_x = diabetes_X[indices[:train_size]]\n",
        "train_y = diabetes_Y[indices[:train_size]]\n",
        "\n",
        "test_x = diabetes_X[indices[train_size:]]\n",
        "test_y = diabetes_Y[indices[train_size:]]\n"
      ],
      "execution_count": 45,
      "outputs": []
    },
    {
      "cell_type": "markdown",
      "metadata": {
        "id": "zrZ4SQo_5ZtB"
      },
      "source": [
        "##Линейная регрессия"
      ]
    },
    {
      "cell_type": "code",
      "metadata": {
        "colab": {
          "base_uri": "https://localhost:8080/"
        },
        "id": "xaRbb_j_5dJU",
        "outputId": "b9f446c0-0756-4bcb-817f-597fb0a954e4"
      },
      "source": [
        "regr = linear_model.LinearRegression()\n",
        "regr.fit(train_x, train_y)"
      ],
      "execution_count": 46,
      "outputs": [
        {
          "output_type": "execute_result",
          "data": {
            "text/plain": [
              "LinearRegression(copy_X=True, fit_intercept=True, n_jobs=None, normalize=False)"
            ]
          },
          "metadata": {},
          "execution_count": 46
        }
      ]
    },
    {
      "cell_type": "code",
      "metadata": {
        "id": "awNlTAQC5c_M"
      },
      "source": [
        "pred_y = regr.predict(test_x)\n",
        "mse = np.mean( (pred_y - test_y) ** 2)\n",
        "score = regr.score(test_x, test_y)"
      ],
      "execution_count": 47,
      "outputs": []
    },
    {
      "cell_type": "code",
      "metadata": {
        "colab": {
          "base_uri": "https://localhost:8080/"
        },
        "id": "DBLtZmSc7SUx",
        "outputId": "70daa6b3-643d-4003-9b5d-6611c426e316"
      },
      "source": [
        "print(\"Коэффициенты: \", regr.coef_)"
      ],
      "execution_count": 48,
      "outputs": [
        {
          "output_type": "stream",
          "name": "stdout",
          "text": [
            "Коэффициенты:  [ -38.99288335 -249.42768544  474.28097112  334.838844   -981.9275499\n",
            "  592.85224787  228.55240844  330.33007012  711.75895972  148.57101756]\n"
          ]
        }
      ]
    },
    {
      "cell_type": "code",
      "metadata": {
        "colab": {
          "base_uri": "https://localhost:8080/"
        },
        "id": "g8IdD-G15c8q",
        "outputId": "7760be48-b026-46ac-b5d0-d2e1fb10c705"
      },
      "source": [
        "print(\"Линейная регрессия\")\n",
        "print(\"MSE %.2f\" % mse)\n",
        "print(\"Variance score: %.2f\" % score)"
      ],
      "execution_count": 34,
      "outputs": [
        {
          "output_type": "stream",
          "name": "stdout",
          "text": [
            "Линейная регрессия\n",
            "MSE 2855.80\n",
            "Variance score: 0.57\n"
          ]
        }
      ]
    },
    {
      "cell_type": "markdown",
      "metadata": {
        "id": "eu7Uz9gw5wKf"
      },
      "source": [
        "##Ridge"
      ]
    },
    {
      "cell_type": "code",
      "metadata": {
        "colab": {
          "base_uri": "https://localhost:8080/"
        },
        "id": "3wS6O1Uk55iW",
        "outputId": "4b4bd360-e7a9-4ce8-c44e-f3656ac20a02"
      },
      "source": [
        "ridge = linear_model.Ridge(alpha = .1)\n",
        "ridge.fit(train_x, train_y)"
      ],
      "execution_count": 35,
      "outputs": [
        {
          "output_type": "execute_result",
          "data": {
            "text/plain": [
              "Ridge(alpha=0.1, copy_X=True, fit_intercept=True, max_iter=None,\n",
              "      normalize=False, random_state=None, solver='auto', tol=0.001)"
            ]
          },
          "metadata": {},
          "execution_count": 35
        }
      ]
    },
    {
      "cell_type": "code",
      "metadata": {
        "id": "tKCu8__s55pR"
      },
      "source": [
        "pred_y = ridge.predict(test_x)\n",
        "mse = np.mean( (pred_y - test_y) ** 2)\n",
        "score = ridge.score(test_x, test_y)"
      ],
      "execution_count": 36,
      "outputs": []
    },
    {
      "cell_type": "code",
      "metadata": {
        "colab": {
          "base_uri": "https://localhost:8080/"
        },
        "id": "5Zi8ciC67gWj",
        "outputId": "4a7e2763-db01-4efc-e818-236aaf91bc19"
      },
      "source": [
        "print(\"Коэффициенты: \", ridge.coef_)"
      ],
      "execution_count": 38,
      "outputs": [
        {
          "output_type": "stream",
          "name": "stdout",
          "text": [
            "Коэффициенты:  [ -19.80115719 -196.41442325  433.33906715  300.33594428  -74.54245803\n",
            "  -77.3766056  -172.67474069  179.34180466  361.09043204  155.98553333]\n"
          ]
        }
      ]
    },
    {
      "cell_type": "code",
      "metadata": {
        "colab": {
          "base_uri": "https://localhost:8080/"
        },
        "id": "zi08IXdb55vK",
        "outputId": "9957d9c2-5aa0-4d3c-d9bd-2a93c979c1c8"
      },
      "source": [
        "print(\"Ridge\")\n",
        "print(\"MSE %.2f\" % mse)\n",
        "print(\"Variance score: %.2f\" % score)"
      ],
      "execution_count": 18,
      "outputs": [
        {
          "output_type": "stream",
          "name": "stdout",
          "text": [
            "Ridge\n",
            "MSE 2916.04\n",
            "Variance score: 0.56\n"
          ]
        }
      ]
    },
    {
      "cell_type": "markdown",
      "metadata": {
        "id": "DyztMnDC6L0x"
      },
      "source": [
        "##Lasso"
      ]
    },
    {
      "cell_type": "code",
      "metadata": {
        "colab": {
          "base_uri": "https://localhost:8080/"
        },
        "id": "nPSRpNn06PDb",
        "outputId": "27a53142-8717-4537-e27f-f0ebaa28bdf6"
      },
      "source": [
        "lasso = linear_model.Lasso(alpha = .1)\n",
        "lasso.fit(train_x, train_y)"
      ],
      "execution_count": 19,
      "outputs": [
        {
          "output_type": "execute_result",
          "data": {
            "text/plain": [
              "Lasso(alpha=0.1, copy_X=True, fit_intercept=True, max_iter=1000,\n",
              "      normalize=False, positive=False, precompute=False, random_state=None,\n",
              "      selection='cyclic', tol=0.0001, warm_start=False)"
            ]
          },
          "metadata": {},
          "execution_count": 19
        }
      ]
    },
    {
      "cell_type": "code",
      "metadata": {
        "id": "OzlyWBNj6PJ-"
      },
      "source": [
        "pred_y = lasso.predict(test_x)\n",
        "mse = np.mean( (pred_y - test_y) ** 2)\n",
        "score = lasso.score(test_x, test_y)"
      ],
      "execution_count": 20,
      "outputs": []
    },
    {
      "cell_type": "code",
      "metadata": {
        "colab": {
          "base_uri": "https://localhost:8080/"
        },
        "id": "nqzPePdL7mED",
        "outputId": "55254652-c01f-4905-ddaf-338a72607a02"
      },
      "source": [
        "print(\"Коэффициенты: \", lasso.coef_)"
      ],
      "execution_count": 39,
      "outputs": [
        {
          "output_type": "stream",
          "name": "stdout",
          "text": [
            "Коэффициенты:  [  -0.         -156.09324795  470.27813163  274.63765309  -31.23191017\n",
            "   -0.         -237.22841913    0.          407.52399397  108.54329911]\n"
          ]
        }
      ]
    },
    {
      "cell_type": "code",
      "metadata": {
        "colab": {
          "base_uri": "https://localhost:8080/"
        },
        "id": "d7K6sk5r6POL",
        "outputId": "fa1361b6-6f86-4a7f-a220-8b334fbc05dd"
      },
      "source": [
        "print(\"Lasso\")\n",
        "print(\"MSE %.2f\" % mse)\n",
        "print(\"Variance score: %.2f\" % score)"
      ],
      "execution_count": 21,
      "outputs": [
        {
          "output_type": "stream",
          "name": "stdout",
          "text": [
            "Lasso\n",
            "MSE 2842.24\n",
            "Variance score: 0.57\n"
          ]
        }
      ]
    },
    {
      "cell_type": "markdown",
      "metadata": {
        "id": "6cffyla76W2B"
      },
      "source": [
        "##ElasticNet"
      ]
    },
    {
      "cell_type": "code",
      "metadata": {
        "colab": {
          "base_uri": "https://localhost:8080/"
        },
        "id": "rr_w2ok_6bNd",
        "outputId": "164170fb-b2ae-42bb-e2c3-ffb2130e7ec0"
      },
      "source": [
        "elasticNet = linear_model.ElasticNet(l1_ratio=0.9, alpha=.1)\n",
        "elasticNet.fit(train_x, train_y)"
      ],
      "execution_count": 22,
      "outputs": [
        {
          "output_type": "execute_result",
          "data": {
            "text/plain": [
              "ElasticNet(alpha=0.1, copy_X=True, fit_intercept=True, l1_ratio=0.9,\n",
              "           max_iter=1000, normalize=False, positive=False, precompute=False,\n",
              "           random_state=None, selection='cyclic', tol=0.0001, warm_start=False)"
            ]
          },
          "metadata": {},
          "execution_count": 22
        }
      ]
    },
    {
      "cell_type": "code",
      "metadata": {
        "id": "_-EG0ToJ6bQZ"
      },
      "source": [
        "pred_y = elasticNet.predict(test_x)\n",
        "mse = np.mean( (pred_y - test_y) ** 2)\n",
        "score = elasticNet.score(test_x, test_y)"
      ],
      "execution_count": 24,
      "outputs": []
    },
    {
      "cell_type": "code",
      "metadata": {
        "colab": {
          "base_uri": "https://localhost:8080/"
        },
        "id": "0yv7xQ5M7ofI",
        "outputId": "6c3b4d67-2aec-4df9-91fa-f0b1c3973c41"
      },
      "source": [
        "print(\"Коэффициенты: \", elasticNet.coef_)"
      ],
      "execution_count": 40,
      "outputs": [
        {
          "output_type": "stream",
          "name": "stdout",
          "text": [
            "Коэффициенты:  [ 16.93204502  -0.         126.73366081  90.29539279  16.6551916\n",
            "   9.19175477 -69.44944815  70.1963199  103.55368515  70.39479208]\n"
          ]
        }
      ]
    },
    {
      "cell_type": "code",
      "metadata": {
        "colab": {
          "base_uri": "https://localhost:8080/"
        },
        "id": "bsFySklY6bS2",
        "outputId": "d3a91b22-fa01-44bd-ad75-0575f89e318d"
      },
      "source": [
        "print(\"ElasticNet\")\n",
        "print(\"MSE %.2f\" % mse)\n",
        "print(\"Variance score: %.2f\" % score)"
      ],
      "execution_count": 27,
      "outputs": [
        {
          "output_type": "stream",
          "name": "stdout",
          "text": [
            "ElasticNet\n",
            "MSE 4696.62\n",
            "Variance score: 0.29\n"
          ]
        }
      ]
    },
    {
      "cell_type": "markdown",
      "metadata": {
        "id": "chOceA9F4NXz"
      },
      "source": [
        "#Вывод:\n",
        "###Mean Square Error — средний квадрат ошибки определения какой-либо величины, квадратный корень из MSE есть среднеквадратическое отклонение определяемой величины от её математического ожидания. Сравнивая значения MSE, можно сказать, что LinearRegression (со значением MSE 2855) показала себя наилучшим образом, а ElasticNet же (со значением 4696), наоборот, худшим."
      ]
    }
  ]
}